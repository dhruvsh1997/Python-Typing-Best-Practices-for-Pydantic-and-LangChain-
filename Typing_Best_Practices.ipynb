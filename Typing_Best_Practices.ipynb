{
  "nbformat": 4,
  "nbformat_minor": 0,
  "metadata": {
    "colab": {
      "provenance": []
    },
    "kernelspec": {
      "name": "python3",
      "display_name": "Python 3"
    },
    "language_info": {
      "name": "python"
    }
  },
  "cells": [
    {
      "cell_type": "markdown",
      "source": [
        "# 🐍 Python Typing Fundamentals & Pydantic Integration\n",
        "\n",
        "## 📋 Learning Objectives\n",
        "By the end of this notebook, you'll understand:\n",
        "- **Basic Type Hints** - Foundation of Python typing\n",
        "- **Generic Types** - Flexible, reusable type definitions\n",
        "- **Union & Optional** - Handling multiple possible types\n",
        "- **Literal & TypedDict** - Precise value and structure definitions\n",
        "- **Protocol & ABC** - Interface definitions\n",
        "- **Pydantic Integration** - Real-world data validation\n",
        "\n",
        "## 🎯 Why Typing Matters for LangChain/LangGraph\n",
        "- **Data Validation** - Ensure correct input/output formats\n",
        "- **IDE Support** - Better autocomplete and error detection\n",
        "- **Documentation** - Self-documenting code\n",
        "- **Runtime Safety** - Catch errors before they happen\n",
        "\n",
        "---"
      ],
      "metadata": {
        "id": "6H_VlTp9np7D"
      }
    },
    {
      "cell_type": "markdown",
      "source": [
        "## 1️⃣ Basic Type Hints - The Foundation\n",
        "\n",
        "### 🔍 What Are Type Hints?\n",
        "Type hints tell Python (and developers) what type of data a variable should hold.\n",
        "\n",
        "### 🏗️ Basic Syntax Pattern:\n",
        "```python\n",
        "variable_name: Type = value\n",
        "def function_name(param: InputType) -> ReturnType:\n",
        "    return something"
      ],
      "metadata": {
        "id": "2sekP77inuft"
      }
    },
    {
      "cell_type": "code",
      "source": [
        "# Basic Type Hints Examples\n",
        "from typing import List, Dict, Tuple, Set, Optional\n",
        "\n",
        "# 🎯 Simple Variables\n",
        "name: str = \"LangChain User\"\n",
        "age: int = 25\n",
        "temperature: float = 98.6\n",
        "is_learning: bool = True\n",
        "\n",
        "print(f\"Name: {name} (type: {type(name).__name__})\")\n",
        "print(f\"Age: {age} (type: {type(age).__name__})\")\n",
        "\n",
        "# 🎯 Function with Type Hints\n",
        "def greet_user(username: str, times: int = 1) -> str:\n",
        "    \"\"\"\n",
        "    Greets user specified number of times\n",
        "\n",
        "    Args:\n",
        "        username: The name to greet\n",
        "        times: How many times to repeat greeting\n",
        "\n",
        "    Returns:\n",
        "        Formatted greeting string\n",
        "    \"\"\"\n",
        "    return f\"Hello {username}! \" * times\n",
        "\n",
        "# Test the function\n",
        "result = greet_user(\"Python Developer\", 2)\n",
        "print(f\"Greeting: {result}\")\n",
        "\n",
        "# 🎯 Collection Types\n",
        "user_scores: List[int] = [85, 92, 78, 96]\n",
        "user_data: Dict[str, str] = {\"name\": \"Alice\", \"role\": \"Developer\"}\n",
        "coordinates: Tuple[float, float] = (40.7128, -74.0060)  # NYC coordinates\n",
        "unique_tags: Set[str] = {\"python\", \"typing\", \"langchain\"}\n",
        "\n",
        "print(f\"Scores: {user_scores}\")\n",
        "print(f\"User Data: {user_data}\")\n",
        "print(f\"NYC Coordinates: {coordinates}\")\n",
        "print(f\"Tags: {unique_tags}\")"
      ],
      "metadata": {
        "colab": {
          "base_uri": "https://localhost:8080/"
        },
        "id": "i4nu_mtTnm8d",
        "outputId": "22d09b4d-36d3-440f-924f-8485dca3f956"
      },
      "execution_count": 3,
      "outputs": [
        {
          "output_type": "stream",
          "name": "stdout",
          "text": [
            "Name: LangChain User (type: str)\n",
            "Age: 25 (type: int)\n",
            "Greeting: Hello Python Developer! Hello Python Developer! \n",
            "Scores: [85, 92, 78, 96]\n",
            "User Data: {'name': 'Alice', 'role': 'Developer'}\n",
            "NYC Coordinates: (40.7128, -74.006)\n",
            "Tags: {'langchain', 'python', 'typing'}\n"
          ]
        }
      ]
    },
    {
      "cell_type": "markdown",
      "source": [
        "## 2️⃣ Generic Types - Flexible & Reusable\n",
        "\n",
        "### 🔍 What Are Generics?\n",
        "Generics allow you to create flexible, reusable type definitions that work with multiple types.\n",
        "\n",
        "### 🏗️ Common Generic Types:\n",
        "- `List[T]` - List containing items of type T\n",
        "- `Dict[K, V]` - Dictionary with keys of type K and values of type V  \n",
        "- `Optional[T]` - Either type T or None\n",
        "- `Union[A, B]` - Either type A or type B\n",
        "\n",
        "### 💡 Real-World Analogy:\n",
        "Think of generics like a **container label** - you can have a \"Box[Books]\" or \"Box[Tools]\", but the box structure remains the same.\n",
        "\n",
        "```mermaid\n",
        "graph TD\n",
        "    A[Generic Container] --> B[List[str]]\n",
        "    A --> C[List[int]]  \n",
        "    A --> D[Dict[str, Any]]\n",
        "    B --> E[\"['hello', 'world']\"]\n",
        "    C --> F[\"[1, 2, 3]\"]\n",
        "    D --> G[\"{'key': 'value'}\"]"
      ],
      "metadata": {
        "id": "omQ1dyjln2dq"
      }
    },
    {
      "cell_type": "code",
      "source": [
        "from typing import List, Dict, Tuple, Optional, Union, Any, Generic, TypeVar\n",
        "\n",
        "# 🎯 Generic Collections for LangChain-like Data\n",
        "def process_chat_messages(messages: List[Dict[str, str]]) -> List[str]:\n",
        "    \"\"\"\n",
        "    Process chat messages and extract content\n",
        "    Similar to LangChain message processing\n",
        "    \"\"\"\n",
        "    processed = []\n",
        "    for msg in messages:\n",
        "        role = msg.get(\"role\", \"unknown\")\n",
        "        content = msg.get(\"content\", \"\")\n",
        "        processed.append(f\"[{role.upper()}]: {content}\")\n",
        "    return processed\n",
        "\n",
        "# Sample chat data (similar to LangChain format)\n",
        "chat_history: List[Dict[str, str]] = [\n",
        "    {\"role\": \"human\", \"content\": \"What is Python typing?\"},\n",
        "    {\"role\": \"assistant\", \"content\": \"Python typing helps with code reliability...\"},\n",
        "    {\"role\": \"human\", \"content\": \"Can you show examples?\"}\n",
        "]\n",
        "\n",
        "processed_messages = process_chat_messages(chat_history)\n",
        "for msg in processed_messages:\n",
        "    print(msg)\n",
        "\n",
        "print(\"\\n\" + \"=\"*50)\n",
        "\n",
        "# 🎯 Optional and Union Types (Very Common in LangChain)\n",
        "def create_llm_config(\n",
        "    model_name: str,\n",
        "    temperature: Optional[float] = None,  # Could be None or float\n",
        "    max_tokens: Union[int, str] = \"auto\"  # Could be int or string\n",
        ") -> Dict[str, Any]:\n",
        "    \"\"\"\n",
        "    Create LLM configuration (similar to LangChain patterns)\n",
        "    \"\"\"\n",
        "    config = {\"model\": model_name}\n",
        "\n",
        "    if temperature is not None:\n",
        "        config[\"temperature\"] = temperature\n",
        "\n",
        "    config[\"max_tokens\"] = max_tokens\n",
        "    return config\n",
        "\n",
        "# Test different configurations\n",
        "config1 = create_llm_config(\"gpt-3.5-turbo\")\n",
        "config2 = create_llm_config(\"gpt-4\", temperature=0.7, max_tokens=1000)\n",
        "\n",
        "print(\"Config 1:\", config1)\n",
        "print(\"Config 2:\", config2)"
      ],
      "metadata": {
        "colab": {
          "base_uri": "https://localhost:8080/"
        },
        "id": "uG_CXlu3nm4_",
        "outputId": "2f724cd1-eff8-4341-c244-b3ea51fcae80"
      },
      "execution_count": 4,
      "outputs": [
        {
          "output_type": "stream",
          "name": "stdout",
          "text": [
            "[HUMAN]: What is Python typing?\n",
            "[ASSISTANT]: Python typing helps with code reliability...\n",
            "[HUMAN]: Can you show examples?\n",
            "\n",
            "==================================================\n",
            "Config 1: {'model': 'gpt-3.5-turbo', 'max_tokens': 'auto'}\n",
            "Config 2: {'model': 'gpt-4', 'temperature': 0.7, 'max_tokens': 1000}\n"
          ]
        }
      ]
    },
    {
      "cell_type": "markdown",
      "source": [
        "## 3️⃣ Literal & TypedDict - Precise Definitions\n",
        "\n",
        "### 🔍 What is Literal?\n",
        "`Literal` restricts values to specific options - perfect for API endpoints, model names, etc.\n",
        "\n",
        "### 🔍 What is TypedDict?\n",
        "`TypedDict` defines the exact structure of dictionaries - like a schema for data.\n",
        "\n",
        "### 🏗️ LangChain Use Cases:\n",
        "- **Model Names**: `Literal[\"gpt-3.5-turbo\", \"gpt-4\", \"claude\"]`\n",
        "- **Message Types**: `Literal[\"human\", \"assistant\", \"system\"]`\n",
        "- **Configuration Schemas**: Structured dictionaries with known keys\n",
        "\n",
        "### 💡 Benefits:\n",
        "- **Validation** - Only allowed values accepted\n",
        "- **Autocomplete** - IDE knows exact options\n",
        "- **Documentation** - Clear constraints"
      ],
      "metadata": {
        "id": "6zN6-vRPoBer"
      }
    },
    {
      "cell_type": "code",
      "source": [
        "from typing import Literal, TypedDict, List, Optional, Union\n",
        "\n",
        "# 🎯 Literal Types for LangChain-style Constraints\n",
        "ModelName = Literal[\"gpt-3.5-turbo\", \"gpt-4\", \"claude-3\", \"llama-2\"]\n",
        "MessageRole = Literal[\"human\", \"assistant\", \"system\"]\n",
        "ChainType = Literal[\"conversation\", \"retrieval\", \"summary\", \"analysis\"]\n",
        "\n",
        "# 🎯 TypedDict for Structured Data (Like LangChain Messages)\n",
        "class ChatMessage(TypedDict):\n",
        "    role: MessageRole\n",
        "    content: str\n",
        "    timestamp: Optional[str]\n",
        "\n",
        "class LLMConfig(TypedDict, total=False):  # total=False means some keys are optional\n",
        "    model: ModelName\n",
        "    temperature: float\n",
        "    max_tokens: int\n",
        "    system_prompt: str\n",
        "\n",
        "# 🎯 Function using Literal and TypedDict\n",
        "def create_chat_chain(\n",
        "    model: ModelName,\n",
        "    chain_type: ChainType,\n",
        "    config: Optional[LLMConfig] = None\n",
        ") -> Dict[str, Union[str, List[ChatMessage]]]:\n",
        "    \"\"\"\n",
        "    Create a chat chain configuration (LangChain-style)\n",
        "    \"\"\"\n",
        "    # Create base configuration\n",
        "    chain_config = {\n",
        "        \"model\": model,\n",
        "        \"type\": chain_type,\n",
        "        \"messages\": []\n",
        "    }\n",
        "\n",
        "    # Add optional configuration\n",
        "    if config:\n",
        "        chain_config.update(config)\n",
        "\n",
        "    return chain_config\n",
        "\n",
        "# 🎯 Test with valid values\n",
        "messages: List[ChatMessage] = [\n",
        "    {\"role\": \"system\", \"content\": \"You are a helpful assistant\", \"timestamp\": \"2024-01-01\"},\n",
        "    {\"role\": \"human\", \"content\": \"Explain Python typing\", \"timestamp\": None},\n",
        "    {\"role\": \"assistant\", \"content\": \"Python typing helps...\", \"timestamp\": \"2024-01-01\"}\n",
        "]\n",
        "\n",
        "config: LLMConfig = {\n",
        "    \"model\": \"gpt-4\",\n",
        "    \"temperature\": 0.7,\n",
        "    \"max_tokens\": 1000\n",
        "}\n",
        "\n",
        "chain = create_chat_chain(\"gpt-4\", \"conversation\", config)\n",
        "print(\"Chain Configuration:\")\n",
        "print(chain)\n",
        "\n",
        "print(\"\\nMessages:\")\n",
        "for msg in messages:\n",
        "    role = msg[\"role\"]\n",
        "    content = msg[\"content\"][:50] + \"...\" if len(msg[\"content\"]) > 50 else msg[\"content\"]\n",
        "    print(f\"  {role.upper()}: {content}\")\n",
        "\n",
        "# 🎯 Try uncommenting this to see IDE warnings (if using an IDE with type checking)\n",
        "# invalid_model = \"invalid-model\"  # This would cause a type error\n",
        "# create_chat_chain(invalid_model, \"conversation\")  # Type checker would warn!"
      ],
      "metadata": {
        "colab": {
          "base_uri": "https://localhost:8080/"
        },
        "id": "QQJNIzronm2L",
        "outputId": "2d5a191f-d206-4d59-eba5-80e0edba32ab"
      },
      "execution_count": 5,
      "outputs": [
        {
          "output_type": "stream",
          "name": "stdout",
          "text": [
            "Chain Configuration:\n",
            "{'model': 'gpt-4', 'type': 'conversation', 'messages': [], 'temperature': 0.7, 'max_tokens': 1000}\n",
            "\n",
            "Messages:\n",
            "  SYSTEM: You are a helpful assistant\n",
            "  HUMAN: Explain Python typing\n",
            "  ASSISTANT: Python typing helps...\n"
          ]
        }
      ]
    },
    {
      "cell_type": "markdown",
      "source": [
        "## 4️⃣ Protocol & Abstract Base Classes\n",
        "\n",
        "### 🔍 What is Protocol?\n",
        "`Protocol` defines interfaces - what methods/attributes a class should have, without inheritance.\n",
        "\n",
        "### 🔍 What are Abstract Base Classes (ABC)?\n",
        "ABC defines a template that subclasses must follow - enforces implementation of specific methods.\n",
        "\n",
        "### 🏗️ LangChain Use Cases:\n",
        "- **Tool Interface**: All tools must have `name`, `description`, and `run()` method\n",
        "- **Memory Interface**: All memory systems must implement `save()` and `load()`\n",
        "- **Chain Interface**: All chains must implement `run()` or `invoke()`\n",
        "\n",
        "### 💡 Protocol vs ABC:\n",
        "- **Protocol** = Duck Typing (\"If it walks like a duck...\")\n",
        "- **ABC** = Inheritance-based (\"Must inherit from Duck class\")\n",
        "\n",
        "```mermaid\n",
        "graph TD\n",
        "    A[Protocol: Runnable] --> B[Has run method]\n",
        "    A --> C[No inheritance needed]\n",
        "    D[ABC: BaseChain] --> E[Must inherit]\n",
        "    D --> F[Must implement abstract methods]\n",
        "    \n",
        "    G[Tool Class] --> A\n",
        "    H[CustomChain] --> D"
      ],
      "metadata": {
        "id": "xiK33SyeoJCb"
      }
    },
    {
      "cell_type": "code",
      "source": [
        "from typing import Protocol, Any, Dict, List\n",
        "from abc import ABC, abstractmethod\n",
        "\n",
        "# 🎯 Protocol Example (LangChain-style Tool Interface)\n",
        "class RunnableProtocol(Protocol):\n",
        "    \"\"\"Protocol for any runnable component (like LangChain's Runnable)\"\"\"\n",
        "    name: str\n",
        "    description: str\n",
        "\n",
        "    def run(self, input_data: Any) -> Any:\n",
        "        \"\"\"Execute the runnable with input data\"\"\"\n",
        "        ...\n",
        "\n",
        "class ToolProtocol(Protocol):\n",
        "    \"\"\"Protocol for tools (similar to LangChain tools)\"\"\"\n",
        "    name: str\n",
        "    description: str\n",
        "\n",
        "    def execute(self, query: str) -> str:\n",
        "        \"\"\"Execute tool with query and return result\"\"\"\n",
        "        ...\n",
        "\n",
        "# 🎯 Classes that follow the Protocol (no inheritance needed!)\n",
        "class WeatherTool:\n",
        "    name = \"weather_check\"\n",
        "    description = \"Get current weather information\"\n",
        "\n",
        "    def execute(self, query: str) -> str:\n",
        "        return f\"Weather for {query}: Sunny, 72°F\"\n",
        "\n",
        "class CalculatorTool:\n",
        "    name = \"calculator\"\n",
        "    description = \"Perform mathematical calculations\"\n",
        "\n",
        "    def execute(self, query: str) -> str:\n",
        "        try:\n",
        "            result = eval(query)  # Don't use eval in production!\n",
        "            return f\"Result: {result}\"\n",
        "        except:\n",
        "            return \"Invalid calculation\"\n",
        "\n",
        "# 🎯 Function that works with any tool following the protocol\n",
        "def use_tool(tool: ToolProtocol, user_query: str) -> Dict[str, str]:\n",
        "    \"\"\"Use any tool that follows the ToolProtocol\"\"\"\n",
        "    return {\n",
        "        \"tool_name\": tool.name,\n",
        "        \"description\": tool.description,\n",
        "        \"query\": user_query,\n",
        "        \"result\": tool.execute(user_query)\n",
        "    }\n",
        "\n",
        "# Test with different tools\n",
        "weather = WeatherTool()\n",
        "calc = CalculatorTool()\n",
        "\n",
        "weather_result = use_tool(weather, \"New York\")\n",
        "calc_result = use_tool(calc, \"2 + 3 * 4\")\n",
        "\n",
        "print(\"Weather Tool Result:\")\n",
        "print(weather_result)\n",
        "print(\"\\nCalculator Tool Result:\")\n",
        "print(calc_result)\n",
        "\n",
        "print(\"\\n\" + \"=\"*50)\n",
        "\n",
        "# 🎯 Abstract Base Class Example (LangChain-style Chain)\n",
        "class BaseChain(ABC):\n",
        "    \"\"\"Abstract base class for all chains (similar to LangChain)\"\"\"\n",
        "\n",
        "    def __init__(self, name: str):\n",
        "        self.name = name\n",
        "\n",
        "    @abstractmethod\n",
        "    def invoke(self, input_data: Dict[str, Any]) -> Dict[str, Any]:\n",
        "        \"\"\"All chains must implement invoke method\"\"\"\n",
        "        pass\n",
        "\n",
        "    @abstractmethod\n",
        "    def get_input_schema(self) -> Dict[str, str]:\n",
        "        \"\"\"All chains must define their input schema\"\"\"\n",
        "        pass\n",
        "\n",
        "class ConversationChain(BaseChain):\n",
        "    \"\"\"Concrete implementation of BaseChain\"\"\"\n",
        "\n",
        "    def invoke(self, input_data: Dict[str, Any]) -> Dict[str, Any]:\n",
        "        user_input = input_data.get(\"message\", \"\")\n",
        "        return {\n",
        "            \"response\": f\"Echo: {user_input}\",\n",
        "            \"chain_name\": self.name\n",
        "        }\n",
        "\n",
        "    def get_input_schema(self) -> Dict[str, str]:\n",
        "        return {\"message\": \"string - user input message\"}\n",
        "\n",
        "# Test the chain\n",
        "chain = ConversationChain(\"echo_chain\")\n",
        "result = chain.invoke({\"message\": \"Hello, LangChain!\"})\n",
        "schema = chain.get_input_schema()\n",
        "\n",
        "print(\"Chain Result:\")\n",
        "print(result)\n",
        "print(\"\\nInput Schema:\")\n",
        "print(schema)"
      ],
      "metadata": {
        "colab": {
          "base_uri": "https://localhost:8080/"
        },
        "id": "tHwatfaEnlLE",
        "outputId": "aff447a9-6b7e-47c1-d344-d71c95ec7512"
      },
      "execution_count": 6,
      "outputs": [
        {
          "output_type": "stream",
          "name": "stdout",
          "text": [
            "Weather Tool Result:\n",
            "{'tool_name': 'weather_check', 'description': 'Get current weather information', 'query': 'New York', 'result': 'Weather for New York: Sunny, 72°F'}\n",
            "\n",
            "Calculator Tool Result:\n",
            "{'tool_name': 'calculator', 'description': 'Perform mathematical calculations', 'query': '2 + 3 * 4', 'result': 'Result: 14'}\n",
            "\n",
            "==================================================\n",
            "Chain Result:\n",
            "{'response': 'Echo: Hello, LangChain!', 'chain_name': 'echo_chain'}\n",
            "\n",
            "Input Schema:\n",
            "{'message': 'string - user input message'}\n"
          ]
        }
      ]
    },
    {
      "cell_type": "markdown",
      "source": [
        "## 5️⃣ Pydantic Integration - Data Validation Powerhouse\n",
        "\n",
        "### 🔍 What is Pydantic?\n",
        "Pydantic uses Python type hints to validate data at runtime - it's the backbone of modern Python APIs.\n",
        "\n",
        "### 🏗️ Key Features:\n",
        "- **Automatic Validation** - Converts and validates data based on type hints\n",
        "- **Error Messages** - Clear, helpful validation errors\n",
        "- **Serialization** - Easy conversion to/from JSON, dict\n",
        "- **IDE Support** - Full autocomplete and type checking\n",
        "\n",
        "### 💡 LangChain Connection:\n",
        "LangChain heavily uses Pydantic for:\n",
        "- **Message Models** - Structured chat messages\n",
        "- **Tool Schemas** - Input/output validation for tools\n",
        "- **Chain Configuration** - Validating parameters\n",
        "- **Agent State** - Managing agent memory and state\n",
        "\n",
        "### 🎯 Why Pydantic + Typing?\n",
        "```python\n",
        "# Without Pydantic (error-prone)\n",
        "config = {\"model\": \"gpt-4\", \"temp\": \"0.7\"}  # temp should be float!\n",
        "\n",
        "# With Pydantic (automatic validation & conversion)\n",
        "class Config(BaseModel):\n",
        "    model: str\n",
        "    temperature: float = 0.0\n",
        "\n",
        "config = Config(model=\"gpt-4\", temperature=\"0.7\")  # Auto-converts \"0.7\" to 0.7!"
      ],
      "metadata": {
        "id": "kDxDvKQtoTZw"
      }
    },
    {
      "cell_type": "code",
      "source": [
        "# Install pydantic if not already installed\n",
        "from pydantic import BaseModel, Field, validator, root_validator\n",
        "from typing import List, Optional, Literal, Dict, Any\n",
        "from datetime import datetime\n",
        "\n",
        "# 🎯 Basic Pydantic Model (LangChain Message Style)\n",
        "class ChatMessage(BaseModel):\n",
        "    role: Literal[\"human\", \"assistant\", \"system\"]\n",
        "    content: str\n",
        "    timestamp: Optional[datetime] = None\n",
        "    metadata: Dict[str, Any] = {}\n",
        "\n",
        "    class Config:\n",
        "        # Allow extra fields (useful for extensibility)\n",
        "        extra = \"allow\"\n",
        "        # Use enum values (for literals)\n",
        "        use_enum_values = True\n",
        "\n",
        "# 🎯 Advanced Model with Validation (LangChain LLM Config Style)\n",
        "class LLMConfig(BaseModel):\n",
        "    model_name: Literal[\"gpt-3.5-turbo\", \"gpt-4\", \"claude-3\"] = \"gpt-3.5-turbo\"\n",
        "    temperature: float = Field(default=0.0, ge=0.0, le=2.0, description=\"Controls randomness\")\n",
        "    max_tokens: int = Field(default=1000, gt=0, le=4000, description=\"Maximum tokens to generate\")\n",
        "    system_prompt: Optional[str] = Field(default=None, max_length=1000)\n",
        "\n",
        "    @validator('temperature')\n",
        "    def validate_temperature(cls, v):\n",
        "        \"\"\"Custom validation for temperature\"\"\"\n",
        "        if v < 0 or v > 2:\n",
        "            raise ValueError('Temperature must be between 0 and 2')\n",
        "        return v\n",
        "\n",
        "    @validator('system_prompt')\n",
        "    def validate_system_prompt(cls, v):\n",
        "        \"\"\"Ensure system prompt is meaningful if provided\"\"\"\n",
        "        if v is not None and len(v.strip()) < 10:\n",
        "            raise ValueError('System prompt must be at least 10 characters')\n",
        "        return v\n",
        "\n",
        "# 🎯 Complex Model with Nested Validation (LangChain Chain Style)\n",
        "class ChatChain(BaseModel):\n",
        "    name: str = Field(..., min_length=1, description=\"Chain identifier\")\n",
        "    llm_config: LLMConfig\n",
        "    messages: List[ChatMessage] = []\n",
        "    memory_size: int = Field(default=10, ge=1, le=100)\n",
        "\n",
        "    @root_validator\n",
        "    def validate_chain(cls, values):\n",
        "        \"\"\"Validate the entire chain configuration\"\"\"\n",
        "        name = values.get('name')\n",
        "        messages = values.get('messages', [])\n",
        "\n",
        "        # Ensure at least one system message if messages exist\n",
        "        if messages:\n",
        "            system_messages = [msg for msg in messages if msg.role == \"system\"]\n",
        "            if not system_messages:\n",
        "                # Add default system message\n",
        "                default_system = ChatMessage(\n",
        "                    role=\"system\",\n",
        "                    content=\"You are a helpful assistant.\",\n",
        "                    timestamp=datetime.now()\n",
        "                )\n",
        "                values['messages'] = [default_system] + messages\n",
        "\n",
        "        return values\n",
        "\n",
        "    def add_message(self, role: str, content: str) -> None:\n",
        "        \"\"\"Add a new message to the chain\"\"\"\n",
        "        message = ChatMessage(\n",
        "            role=role,\n",
        "            content=content,\n",
        "            timestamp=datetime.now()\n",
        "        )\n",
        "        self.messages.append(message)\n",
        "\n",
        "        # Keep only recent messages based on memory_size\n",
        "        if len(self.messages) > self.memory_size:\n",
        "            # Keep system messages + recent messages\n",
        "            system_msgs = [msg for msg in self.messages if msg.role == \"system\"]\n",
        "            other_msgs = [msg for msg in self.messages if msg.role != \"system\"]\n",
        "            recent_msgs = other_msgs[-(self.memory_size - len(system_msgs)):]\n",
        "            self.messages = system_msgs + recent_msgs\n",
        "\n",
        "# Test the models\n",
        "print(\"🎯 Testing Pydantic Models\")\n",
        "print(\"=\"*40)\n",
        "\n",
        "# Create LLM config\n",
        "llm_config = LLMConfig(\n",
        "    model_name=\"gpt-4\",\n",
        "    temperature=0.7,\n",
        "    max_tokens=2000,\n",
        "    system_prompt=\"You are an expert Python developer specializing in typing and Pydantic.\"\n",
        ")\n",
        "\n",
        "print(\"LLM Config:\")\n",
        "print(llm_config.json(indent=2))\n",
        "\n",
        "# Create chat chain\n",
        "chain = ChatChain(\n",
        "    name=\"python_tutor\",\n",
        "    llm_config=llm_config\n",
        ")\n",
        "\n",
        "# Add messages\n",
        "chain.add_message(\"human\", \"What is Pydantic?\")\n",
        "chain.add_message(\"assistant\", \"Pydantic is a data validation library...\")\n",
        "\n",
        "print(f\"\\nChain Messages ({len(chain.messages)} total):\")\n",
        "for msg in chain.messages:\n",
        "    print(f\"  [{msg.role.upper()}]: {msg.content[:50]}...\")\n",
        "\n",
        "# Test validation errors\n",
        "print(\"\\n🚨 Testing Validation Errors:\")\n",
        "try:\n",
        "    invalid_config = LLMConfig(temperature=3.0)  # Too high!\n",
        "except Exception as e:\n",
        "    print(f\"Temperature Error: {e}\")\n",
        "\n",
        "try:\n",
        "    invalid_config = LLMConfig(system_prompt=\"Short\")  # Too short!\n",
        "except Exception as e:\n",
        "    print(f\"System Prompt Error: {e}\")"
      ],
      "metadata": {
        "colab": {
          "base_uri": "https://localhost:8080/",
          "height": 553
        },
        "id": "7JEFs_pZnlCO",
        "outputId": "50170f23-ae9a-43b1-d2cc-09a2cf9f284d"
      },
      "execution_count": 9,
      "outputs": [
        {
          "output_type": "stream",
          "name": "stderr",
          "text": [
            "<ipython-input-9-4fdb35a6fbdf>:26: PydanticDeprecatedSince20: Pydantic V1 style `@validator` validators are deprecated. You should migrate to Pydantic V2 style `@field_validator` validators, see the migration guide for more details. Deprecated in Pydantic V2.0 to be removed in V3.0. See Pydantic V2 Migration Guide at https://errors.pydantic.dev/2.11/migration/\n",
            "  @validator('temperature')\n",
            "<ipython-input-9-4fdb35a6fbdf>:33: PydanticDeprecatedSince20: Pydantic V1 style `@validator` validators are deprecated. You should migrate to Pydantic V2 style `@field_validator` validators, see the migration guide for more details. Deprecated in Pydantic V2.0 to be removed in V3.0. See Pydantic V2 Migration Guide at https://errors.pydantic.dev/2.11/migration/\n",
            "  @validator('system_prompt')\n",
            "<ipython-input-9-4fdb35a6fbdf>:47: PydanticDeprecatedSince20: Pydantic V1 style `@root_validator` validators are deprecated. You should migrate to Pydantic V2 style `@model_validator` validators, see the migration guide for more details. Deprecated in Pydantic V2.0 to be removed in V3.0. See Pydantic V2 Migration Guide at https://errors.pydantic.dev/2.11/migration/\n",
            "  @root_validator\n"
          ]
        },
        {
          "output_type": "error",
          "ename": "PydanticUserError",
          "evalue": "If you use `@root_validator` with pre=False (the default) you MUST specify `skip_on_failure=True`. Note that `@root_validator` is deprecated and should be replaced with `@model_validator`.\n\nFor further information visit https://errors.pydantic.dev/2.11/u/root-validator-pre-skip",
          "traceback": [
            "\u001b[0;31m---------------------------------------------------------------------------\u001b[0m",
            "\u001b[0;31mPydanticUserError\u001b[0m                         Traceback (most recent call last)",
            "\u001b[0;32m<ipython-input-9-4fdb35a6fbdf>\u001b[0m in \u001b[0;36m<cell line: 0>\u001b[0;34m()\u001b[0m\n\u001b[1;32m     39\u001b[0m \u001b[0;34m\u001b[0m\u001b[0m\n\u001b[1;32m     40\u001b[0m \u001b[0;31m# 🎯 Complex Model with Nested Validation (LangChain Chain Style)\u001b[0m\u001b[0;34m\u001b[0m\u001b[0;34m\u001b[0m\u001b[0m\n\u001b[0;32m---> 41\u001b[0;31m \u001b[0;32mclass\u001b[0m \u001b[0mChatChain\u001b[0m\u001b[0;34m(\u001b[0m\u001b[0mBaseModel\u001b[0m\u001b[0;34m)\u001b[0m\u001b[0;34m:\u001b[0m\u001b[0;34m\u001b[0m\u001b[0;34m\u001b[0m\u001b[0m\n\u001b[0m\u001b[1;32m     42\u001b[0m     \u001b[0mname\u001b[0m\u001b[0;34m:\u001b[0m \u001b[0mstr\u001b[0m \u001b[0;34m=\u001b[0m \u001b[0mField\u001b[0m\u001b[0;34m(\u001b[0m\u001b[0;34m...\u001b[0m\u001b[0;34m,\u001b[0m \u001b[0mmin_length\u001b[0m\u001b[0;34m=\u001b[0m\u001b[0;36m1\u001b[0m\u001b[0;34m,\u001b[0m \u001b[0mdescription\u001b[0m\u001b[0;34m=\u001b[0m\u001b[0;34m\"Chain identifier\"\u001b[0m\u001b[0;34m)\u001b[0m\u001b[0;34m\u001b[0m\u001b[0;34m\u001b[0m\u001b[0m\n\u001b[1;32m     43\u001b[0m     \u001b[0mllm_config\u001b[0m\u001b[0;34m:\u001b[0m \u001b[0mLLMConfig\u001b[0m\u001b[0;34m\u001b[0m\u001b[0;34m\u001b[0m\u001b[0m\n",
            "\u001b[0;32m<ipython-input-9-4fdb35a6fbdf>\u001b[0m in \u001b[0;36mChatChain\u001b[0;34m()\u001b[0m\n\u001b[1;32m     45\u001b[0m     \u001b[0mmemory_size\u001b[0m\u001b[0;34m:\u001b[0m \u001b[0mint\u001b[0m \u001b[0;34m=\u001b[0m \u001b[0mField\u001b[0m\u001b[0;34m(\u001b[0m\u001b[0mdefault\u001b[0m\u001b[0;34m=\u001b[0m\u001b[0;36m10\u001b[0m\u001b[0;34m,\u001b[0m \u001b[0mge\u001b[0m\u001b[0;34m=\u001b[0m\u001b[0;36m1\u001b[0m\u001b[0;34m,\u001b[0m \u001b[0mle\u001b[0m\u001b[0;34m=\u001b[0m\u001b[0;36m100\u001b[0m\u001b[0;34m)\u001b[0m\u001b[0;34m\u001b[0m\u001b[0;34m\u001b[0m\u001b[0m\n\u001b[1;32m     46\u001b[0m \u001b[0;34m\u001b[0m\u001b[0m\n\u001b[0;32m---> 47\u001b[0;31m     \u001b[0;34m@\u001b[0m\u001b[0mroot_validator\u001b[0m\u001b[0;34m\u001b[0m\u001b[0;34m\u001b[0m\u001b[0m\n\u001b[0m\u001b[1;32m     48\u001b[0m     \u001b[0;32mdef\u001b[0m \u001b[0mvalidate_chain\u001b[0m\u001b[0;34m(\u001b[0m\u001b[0mcls\u001b[0m\u001b[0;34m,\u001b[0m \u001b[0mvalues\u001b[0m\u001b[0;34m)\u001b[0m\u001b[0;34m:\u001b[0m\u001b[0;34m\u001b[0m\u001b[0;34m\u001b[0m\u001b[0m\n\u001b[1;32m     49\u001b[0m         \u001b[0;34m\"\"\"Validate the entire chain configuration\"\"\"\u001b[0m\u001b[0;34m\u001b[0m\u001b[0;34m\u001b[0m\u001b[0m\n",
            "\u001b[0;32m/usr/local/lib/python3.11/dist-packages/pydantic/deprecated/class_validators.py\u001b[0m in \u001b[0;36mroot_validator\u001b[0;34m(pre, skip_on_failure, allow_reuse, *__args)\u001b[0m\n\u001b[1;32m    232\u001b[0m     \u001b[0;32mif\u001b[0m \u001b[0m__args\u001b[0m\u001b[0;34m:\u001b[0m\u001b[0;34m\u001b[0m\u001b[0;34m\u001b[0m\u001b[0m\n\u001b[1;32m    233\u001b[0m         \u001b[0;31m# Ensure a nice error is raised if someone attempts to use the bare decorator\u001b[0m\u001b[0;34m\u001b[0m\u001b[0;34m\u001b[0m\u001b[0m\n\u001b[0;32m--> 234\u001b[0;31m         \u001b[0;32mreturn\u001b[0m \u001b[0mroot_validator\u001b[0m\u001b[0;34m(\u001b[0m\u001b[0;34m)\u001b[0m\u001b[0;34m(\u001b[0m\u001b[0;34m*\u001b[0m\u001b[0m__args\u001b[0m\u001b[0;34m)\u001b[0m  \u001b[0;31m# type: ignore\u001b[0m\u001b[0;34m\u001b[0m\u001b[0;34m\u001b[0m\u001b[0m\n\u001b[0m\u001b[1;32m    235\u001b[0m \u001b[0;34m\u001b[0m\u001b[0m\n\u001b[1;32m    236\u001b[0m     \u001b[0;32mif\u001b[0m \u001b[0mallow_reuse\u001b[0m \u001b[0;32mis\u001b[0m \u001b[0;32mTrue\u001b[0m\u001b[0;34m:\u001b[0m  \u001b[0;31m# pragma: no cover\u001b[0m\u001b[0;34m\u001b[0m\u001b[0;34m\u001b[0m\u001b[0m\n",
            "\u001b[0;32m/usr/local/lib/python3.11/dist-packages/pydantic/deprecated/class_validators.py\u001b[0m in \u001b[0;36mroot_validator\u001b[0;34m(pre, skip_on_failure, allow_reuse, *__args)\u001b[0m\n\u001b[1;32m    238\u001b[0m     \u001b[0mmode\u001b[0m\u001b[0;34m:\u001b[0m \u001b[0mLiteral\u001b[0m\u001b[0;34m[\u001b[0m\u001b[0;34m'before'\u001b[0m\u001b[0;34m,\u001b[0m \u001b[0;34m'after'\u001b[0m\u001b[0;34m]\u001b[0m \u001b[0;34m=\u001b[0m \u001b[0;34m'before'\u001b[0m \u001b[0;32mif\u001b[0m \u001b[0mpre\u001b[0m \u001b[0;32mis\u001b[0m \u001b[0;32mTrue\u001b[0m \u001b[0;32melse\u001b[0m \u001b[0;34m'after'\u001b[0m\u001b[0;34m\u001b[0m\u001b[0;34m\u001b[0m\u001b[0m\n\u001b[1;32m    239\u001b[0m     \u001b[0;32mif\u001b[0m \u001b[0mpre\u001b[0m \u001b[0;32mis\u001b[0m \u001b[0;32mFalse\u001b[0m \u001b[0;32mand\u001b[0m \u001b[0mskip_on_failure\u001b[0m \u001b[0;32mis\u001b[0m \u001b[0;32mnot\u001b[0m \u001b[0;32mTrue\u001b[0m\u001b[0;34m:\u001b[0m\u001b[0;34m\u001b[0m\u001b[0;34m\u001b[0m\u001b[0m\n\u001b[0;32m--> 240\u001b[0;31m         raise PydanticUserError(\n\u001b[0m\u001b[1;32m    241\u001b[0m             \u001b[0;34m'If you use `@root_validator` with pre=False (the default) you MUST specify `skip_on_failure=True`.'\u001b[0m\u001b[0;34m\u001b[0m\u001b[0;34m\u001b[0m\u001b[0m\n\u001b[1;32m    242\u001b[0m             \u001b[0;34m' Note that `@root_validator` is deprecated and should be replaced with `@model_validator`.'\u001b[0m\u001b[0;34m,\u001b[0m\u001b[0;34m\u001b[0m\u001b[0;34m\u001b[0m\u001b[0m\n",
            "\u001b[0;31mPydanticUserError\u001b[0m: If you use `@root_validator` with pre=False (the default) you MUST specify `skip_on_failure=True`. Note that `@root_validator` is deprecated and should be replaced with `@model_validator`.\n\nFor further information visit https://errors.pydantic.dev/2.11/u/root-validator-pre-skip"
          ]
        }
      ]
    },
    {
      "cell_type": "markdown",
      "source": [
        "## 6️⃣ Real-World Pydantic Patterns for LangChain\n",
        "\n",
        "### 🔍 Common Patterns You'll See:\n",
        "1. **Tool Input/Output Schemas** - Define what tools expect and return\n",
        "2. **Agent State Management** - Track agent memory and context\n",
        "3. **Configuration Validation** - Ensure valid parameters\n",
        "4. **API Response Models** - Structure external API responses\n",
        "\n",
        "### 💡 Best Practices:\n",
        "- **Use Field() for constraints** - min/max values, descriptions\n",
        "- **Custom validators** - Business logic validation\n",
        "- **Nested models** - Compose complex structures\n",
        "- **Default values** - Sensible fallbacks\n",
        "\n",
        "### 🎯 Next Steps:\n",
        "- Practice with your own models\n",
        "- Explore Pydantic documentation\n",
        "- Try integrating with actual APIs\n",
        "- Build validation for your specific use cases"
      ],
      "metadata": {
        "id": "L5p6bGBaozLB"
      }
    },
    {
      "cell_type": "code",
      "source": [
        "# 🎯 Real-World Example: Building a Tool with Pydantic Validation\n",
        "from pydantic import BaseModel, Field, validator\n",
        "from typing import List, Dict, Any, Optional, Union\n",
        "import json\n",
        "\n",
        "class ToolInput(BaseModel):\n",
        "    \"\"\"Input schema for tools (similar to LangChain tools)\"\"\"\n",
        "    query: str = Field(..., min_length=1, max_length=500, description=\"The user's query\")\n",
        "    context: Optional[Dict[str, Any]] = Field(default=None, description=\"Additional context\")\n",
        "\n",
        "class ToolOutput(BaseModel):\n",
        "    \"\"\"Output schema for tools\"\"\"\n",
        "    result: str = Field(..., description=\"The tool's response\")\n",
        "    confidence: float = Field(default=1.0, ge=0.0, le=1.0, description=\"Confidence score\")\n",
        "    metadata: Dict[str, Any] = Field(default_factory=dict, description=\"Additional information\")\n",
        "\n",
        "class Tool(BaseModel):\n",
        "    \"\"\"A complete tool definition with Pydantic validation\"\"\"\n",
        "    name: str = Field(..., regex=r'^[a-zA-Z_][a-zA-Z0-9_]*$', description=\"Tool identifier\")\n",
        "    description: str = Field(..., min_length=10, description=\"What the tool does\")\n",
        "    input_schema: type[ToolInput] = ToolInput\n",
        "    output_schema: type[ToolOutput] = ToolOutput\n",
        "\n",
        "    def run(self, input_data: Union[Dict[str, Any], ToolInput]) -> ToolOutput:\n",
        "        \"\"\"Execute the tool with validated input\"\"\"\n",
        "        # Validate input\n",
        "        if isinstance(input_data, dict):\n",
        "            validated_input = self.input_schema(**input_data)\n",
        "        else:\n",
        "            validated_input = input_data\n",
        "\n",
        "        # Mock tool execution (replace with actual logic)\n",
        "        result = f\"Processed query: '{validated_input.query}'\"\n",
        "        if validated_input.context:\n",
        "            result += f\" with context: {validated_input.context}\"\n",
        "\n",
        "        return self.output_schema(\n",
        "            result=result,\n",
        "            confidence=0.95,\n",
        "            metadata={\"tool_name\": self.name, \"processed_at\": \"2024-01-01\"}\n",
        "        )\n",
        "\n",
        "    class Config:\n",
        "        arbitrary_types_allowed = True\n",
        "\n",
        "# Create and test a tool\n",
        "search_tool = Tool(\n",
        "    name=\"web_search\",\n",
        "    description=\"Search the web for information on any topic\"\n",
        ")\n",
        "\n",
        "# Test with valid input\n",
        "test_input = ToolInput(\n",
        "    query=\"What is Python typing?\",\n",
        "    context={\"user_level\": \"beginner\"}\n",
        ")\n",
        "\n",
        "result = search_tool.run(test_input)\n",
        "print(\"Tool Result:\")\n",
        "print(result.json(indent=2))\n",
        "\n",
        "# Test with dictionary input (auto-validation)\n",
        "dict_input = {\n",
        "    \"query\": \"How does Pydantic work?\",\n",
        "    \"context\": {\"source\": \"tutorial\"}\n",
        "}\n",
        "\n",
        "result2 = search_tool.run(dict_input)\n",
        "print(f\"\\nSecond Result: {result2.result}\")\n",
        "print(f\"Confidence: {result2.confidence}\")\n",
        "\n",
        "# 🎯 Summary of Key Concepts\n",
        "print(\"\\n\" + \"=\"*60)\n",
        "print(\"🎓 KEY CONCEPTS LEARNED:\")\n",
        "print(\"=\"*60)\n",
        "concepts = [\n",
        "    \"✅ Basic Type Hints - Foundation of type safety\",\n",
        "    \"✅ Generic Types - Flexible, reusable definitions\",\n",
        "    \"✅ Literal & TypedDict - Precise constraints\",\n",
        "    \"✅ Protocol & ABC - Interface definitions\",\n",
        "    \"✅ Pydantic Models - Runtime validation powerhouse\",\n",
        "    \"✅ Real-world patterns - Ready for LangChain/LangGraph!\"\n",
        "]\n",
        "\n",
        "for concept in concepts:\n",
        "    print(concept)\n",
        "\n",
        "print(\"\\n🚀 Next: Advanced typing patterns for LangChain/LangGraph!\")"
      ],
      "metadata": {
        "colab": {
          "base_uri": "https://localhost:8080/",
          "height": 442
        },
        "id": "n85NMdnnnk-T",
        "outputId": "887f90e3-d681-4df8-99ff-07ebd4e62ace"
      },
      "execution_count": 10,
      "outputs": [
        {
          "output_type": "error",
          "ename": "PydanticUserError",
          "evalue": "`regex` is removed. use `pattern` instead\n\nFor further information visit https://errors.pydantic.dev/2.11/u/removed-kwargs",
          "traceback": [
            "\u001b[0;31m---------------------------------------------------------------------------\u001b[0m",
            "\u001b[0;31mPydanticUserError\u001b[0m                         Traceback (most recent call last)",
            "\u001b[0;32m<ipython-input-10-f61c51f47290>\u001b[0m in \u001b[0;36m<cell line: 0>\u001b[0;34m()\u001b[0m\n\u001b[1;32m     15\u001b[0m     \u001b[0mmetadata\u001b[0m\u001b[0;34m:\u001b[0m \u001b[0mDict\u001b[0m\u001b[0;34m[\u001b[0m\u001b[0mstr\u001b[0m\u001b[0;34m,\u001b[0m \u001b[0mAny\u001b[0m\u001b[0;34m]\u001b[0m \u001b[0;34m=\u001b[0m \u001b[0mField\u001b[0m\u001b[0;34m(\u001b[0m\u001b[0mdefault_factory\u001b[0m\u001b[0;34m=\u001b[0m\u001b[0mdict\u001b[0m\u001b[0;34m,\u001b[0m \u001b[0mdescription\u001b[0m\u001b[0;34m=\u001b[0m\u001b[0;34m\"Additional information\"\u001b[0m\u001b[0;34m)\u001b[0m\u001b[0;34m\u001b[0m\u001b[0;34m\u001b[0m\u001b[0m\n\u001b[1;32m     16\u001b[0m \u001b[0;34m\u001b[0m\u001b[0m\n\u001b[0;32m---> 17\u001b[0;31m \u001b[0;32mclass\u001b[0m \u001b[0mTool\u001b[0m\u001b[0;34m(\u001b[0m\u001b[0mBaseModel\u001b[0m\u001b[0;34m)\u001b[0m\u001b[0;34m:\u001b[0m\u001b[0;34m\u001b[0m\u001b[0;34m\u001b[0m\u001b[0m\n\u001b[0m\u001b[1;32m     18\u001b[0m     \u001b[0;34m\"\"\"A complete tool definition with Pydantic validation\"\"\"\u001b[0m\u001b[0;34m\u001b[0m\u001b[0;34m\u001b[0m\u001b[0m\n\u001b[1;32m     19\u001b[0m     \u001b[0mname\u001b[0m\u001b[0;34m:\u001b[0m \u001b[0mstr\u001b[0m \u001b[0;34m=\u001b[0m \u001b[0mField\u001b[0m\u001b[0;34m(\u001b[0m\u001b[0;34m...\u001b[0m\u001b[0;34m,\u001b[0m \u001b[0mregex\u001b[0m\u001b[0;34m=\u001b[0m\u001b[0;34mr'^[a-zA-Z_][a-zA-Z0-9_]*$'\u001b[0m\u001b[0;34m,\u001b[0m \u001b[0mdescription\u001b[0m\u001b[0;34m=\u001b[0m\u001b[0;34m\"Tool identifier\"\u001b[0m\u001b[0;34m)\u001b[0m\u001b[0;34m\u001b[0m\u001b[0;34m\u001b[0m\u001b[0m\n",
            "\u001b[0;32m<ipython-input-10-f61c51f47290>\u001b[0m in \u001b[0;36mTool\u001b[0;34m()\u001b[0m\n\u001b[1;32m     17\u001b[0m \u001b[0;32mclass\u001b[0m \u001b[0mTool\u001b[0m\u001b[0;34m(\u001b[0m\u001b[0mBaseModel\u001b[0m\u001b[0;34m)\u001b[0m\u001b[0;34m:\u001b[0m\u001b[0;34m\u001b[0m\u001b[0;34m\u001b[0m\u001b[0m\n\u001b[1;32m     18\u001b[0m     \u001b[0;34m\"\"\"A complete tool definition with Pydantic validation\"\"\"\u001b[0m\u001b[0;34m\u001b[0m\u001b[0;34m\u001b[0m\u001b[0m\n\u001b[0;32m---> 19\u001b[0;31m     \u001b[0mname\u001b[0m\u001b[0;34m:\u001b[0m \u001b[0mstr\u001b[0m \u001b[0;34m=\u001b[0m \u001b[0mField\u001b[0m\u001b[0;34m(\u001b[0m\u001b[0;34m...\u001b[0m\u001b[0;34m,\u001b[0m \u001b[0mregex\u001b[0m\u001b[0;34m=\u001b[0m\u001b[0;34mr'^[a-zA-Z_][a-zA-Z0-9_]*$'\u001b[0m\u001b[0;34m,\u001b[0m \u001b[0mdescription\u001b[0m\u001b[0;34m=\u001b[0m\u001b[0;34m\"Tool identifier\"\u001b[0m\u001b[0;34m)\u001b[0m\u001b[0;34m\u001b[0m\u001b[0;34m\u001b[0m\u001b[0m\n\u001b[0m\u001b[1;32m     20\u001b[0m     \u001b[0mdescription\u001b[0m\u001b[0;34m:\u001b[0m \u001b[0mstr\u001b[0m \u001b[0;34m=\u001b[0m \u001b[0mField\u001b[0m\u001b[0;34m(\u001b[0m\u001b[0;34m...\u001b[0m\u001b[0;34m,\u001b[0m \u001b[0mmin_length\u001b[0m\u001b[0;34m=\u001b[0m\u001b[0;36m10\u001b[0m\u001b[0;34m,\u001b[0m \u001b[0mdescription\u001b[0m\u001b[0;34m=\u001b[0m\u001b[0;34m\"What the tool does\"\u001b[0m\u001b[0;34m)\u001b[0m\u001b[0;34m\u001b[0m\u001b[0;34m\u001b[0m\u001b[0m\n\u001b[1;32m     21\u001b[0m     \u001b[0minput_schema\u001b[0m\u001b[0;34m:\u001b[0m \u001b[0mtype\u001b[0m\u001b[0;34m[\u001b[0m\u001b[0mToolInput\u001b[0m\u001b[0;34m]\u001b[0m \u001b[0;34m=\u001b[0m \u001b[0mToolInput\u001b[0m\u001b[0;34m\u001b[0m\u001b[0;34m\u001b[0m\u001b[0m\n",
            "\u001b[0;32m/usr/local/lib/python3.11/dist-packages/pydantic/fields.py\u001b[0m in \u001b[0;36mField\u001b[0;34m(default, default_factory, alias, alias_priority, validation_alias, serialization_alias, title, field_title_generator, description, examples, exclude, discriminator, deprecated, json_schema_extra, frozen, validate_default, repr, init, init_var, kw_only, pattern, strict, coerce_numbers_to_str, gt, ge, lt, le, multiple_of, allow_inf_nan, max_digits, decimal_places, min_length, max_length, union_mode, fail_fast, **extra)\u001b[0m\n\u001b[1;32m   1071\u001b[0m     \u001b[0mregex\u001b[0m \u001b[0;34m=\u001b[0m \u001b[0mextra\u001b[0m\u001b[0;34m.\u001b[0m\u001b[0mpop\u001b[0m\u001b[0;34m(\u001b[0m\u001b[0;34m'regex'\u001b[0m\u001b[0;34m,\u001b[0m \u001b[0;32mNone\u001b[0m\u001b[0;34m)\u001b[0m  \u001b[0;31m# type: ignore\u001b[0m\u001b[0;34m\u001b[0m\u001b[0;34m\u001b[0m\u001b[0m\n\u001b[1;32m   1072\u001b[0m     \u001b[0;32mif\u001b[0m \u001b[0mregex\u001b[0m \u001b[0;32mis\u001b[0m \u001b[0;32mnot\u001b[0m \u001b[0;32mNone\u001b[0m\u001b[0;34m:\u001b[0m\u001b[0;34m\u001b[0m\u001b[0;34m\u001b[0m\u001b[0m\n\u001b[0;32m-> 1073\u001b[0;31m         \u001b[0;32mraise\u001b[0m \u001b[0mPydanticUserError\u001b[0m\u001b[0;34m(\u001b[0m\u001b[0;34m'`regex` is removed. use `pattern` instead'\u001b[0m\u001b[0;34m,\u001b[0m \u001b[0mcode\u001b[0m\u001b[0;34m=\u001b[0m\u001b[0;34m'removed-kwargs'\u001b[0m\u001b[0;34m)\u001b[0m\u001b[0;34m\u001b[0m\u001b[0;34m\u001b[0m\u001b[0m\n\u001b[0m\u001b[1;32m   1074\u001b[0m \u001b[0;34m\u001b[0m\u001b[0m\n\u001b[1;32m   1075\u001b[0m     \u001b[0;32mif\u001b[0m \u001b[0mextra\u001b[0m\u001b[0;34m:\u001b[0m\u001b[0;34m\u001b[0m\u001b[0;34m\u001b[0m\u001b[0m\n",
            "\u001b[0;31mPydanticUserError\u001b[0m: `regex` is removed. use `pattern` instead\n\nFor further information visit https://errors.pydantic.dev/2.11/u/removed-kwargs"
          ]
        }
      ]
    },
    {
      "cell_type": "code",
      "source": [],
      "metadata": {
        "id": "x_glRKNSnk6O"
      },
      "execution_count": null,
      "outputs": []
    },
    {
      "cell_type": "code",
      "source": [],
      "metadata": {
        "id": "DBsdb-cjnkyC"
      },
      "execution_count": null,
      "outputs": []
    },
    {
      "cell_type": "code",
      "source": [],
      "metadata": {
        "id": "Z-JxGBsbnktx"
      },
      "execution_count": null,
      "outputs": []
    },
    {
      "cell_type": "code",
      "source": [],
      "metadata": {
        "id": "UUhgPqTfnkp5"
      },
      "execution_count": null,
      "outputs": []
    },
    {
      "cell_type": "code",
      "source": [],
      "metadata": {
        "id": "72DNuZcSnkme"
      },
      "execution_count": null,
      "outputs": []
    },
    {
      "cell_type": "code",
      "source": [],
      "metadata": {
        "id": "ZSK0L82snkic"
      },
      "execution_count": null,
      "outputs": []
    },
    {
      "cell_type": "code",
      "source": [],
      "metadata": {
        "id": "WcDi9-i5nkdj"
      },
      "execution_count": null,
      "outputs": []
    },
    {
      "cell_type": "code",
      "source": [],
      "metadata": {
        "id": "aYxBxotdnkaK"
      },
      "execution_count": null,
      "outputs": []
    },
    {
      "cell_type": "code",
      "source": [],
      "metadata": {
        "id": "wm5W2JfBnkXB"
      },
      "execution_count": null,
      "outputs": []
    },
    {
      "cell_type": "code",
      "source": [],
      "metadata": {
        "id": "AQrRTQM8nkUT"
      },
      "execution_count": null,
      "outputs": []
    },
    {
      "cell_type": "code",
      "source": [],
      "metadata": {
        "id": "77zw9aDZnkR9"
      },
      "execution_count": null,
      "outputs": []
    },
    {
      "cell_type": "code",
      "source": [],
      "metadata": {
        "id": "Tw2eKLz2nkOX"
      },
      "execution_count": null,
      "outputs": []
    },
    {
      "cell_type": "code",
      "execution_count": null,
      "metadata": {
        "id": "zdqs0sqMyp4D"
      },
      "outputs": [],
      "source": []
    },
    {
      "cell_type": "code",
      "source": [],
      "metadata": {
        "id": "GSyeFw1oyrLR"
      },
      "execution_count": null,
      "outputs": []
    },
    {
      "cell_type": "code",
      "source": [],
      "metadata": {
        "id": "L-tPClkPyrIZ"
      },
      "execution_count": null,
      "outputs": []
    },
    {
      "cell_type": "code",
      "source": [],
      "metadata": {
        "id": "dRn_3GYkyrFI"
      },
      "execution_count": null,
      "outputs": []
    },
    {
      "cell_type": "code",
      "source": [],
      "metadata": {
        "id": "3GVJjvWryrCM"
      },
      "execution_count": null,
      "outputs": []
    },
    {
      "cell_type": "code",
      "source": [],
      "metadata": {
        "id": "77Z73xgvyq-4"
      },
      "execution_count": null,
      "outputs": []
    },
    {
      "cell_type": "code",
      "source": [],
      "metadata": {
        "id": "3WcawWV4yq7-"
      },
      "execution_count": null,
      "outputs": []
    },
    {
      "cell_type": "code",
      "source": [
        "#Act as a Python Expert who have worked on various advance concepts of Typing Libraries in Python with various Real life like use cases. now I am learning langchain and langgraph and in that I have seen Typing lybraries been used in various use case time to time, so I though I should Learn Typing for myself. Now as someone who never know anything about typing. help me understand and learn best practices of typing library used on regular bases, and also help me learn how its useful while using pydantic, things I need to know in typing before learning langchain and langgraph. Dont explain every single thing in typing just focus on the components used in above mention use cases. \"https://medium.com/@moraneus/exploring-the-power-of-pythons-typing-library-ff32cec44981\", for teaching me all this you can help me create an google colab notebook ipynb file where you are first explaining a component, concept or practices, then explaining it through a simple program through sample code that can help me understand those component, concept or practices completely. make sure to create proper markdown and comments with flowchart(if required and can use tags and all for it) so I can understand theory and maths that works behind during that component, concept or practices, make sure to keep the explaination brief short and beginner-friendly. and only cover key topics not all of them mostly focus on Typing Libraries in Python with its best component, concept or practices and its most common usecase with pydantic. and then Typing Librarie's best component, concept or practices with respect to langchain and langgraph use case."
      ],
      "metadata": {
        "id": "0UaQVtQCyq44"
      },
      "execution_count": null,
      "outputs": []
    },
    {
      "cell_type": "code",
      "source": [
        "#Act as a Python Expert who have worked on various advance concepts of Typing Lybraries in Python with various Real life like use cases. now I am learning langchain and langgraph and in that I have seen Typing lybraries been used in various use case time to time, so I though I should Learn Typing for myself. Now as someone who never know anything about typing. help me understand and learn best practices of typing library used on regular bases, and also help me learn how its usefull while using pydantic, things I need to know in typing before learning langchain and langgraph. Dont explain every single thing in typing just focus on the components used in above mention use cases. \"https://medium.com/@moraneus/exploring-the-power-of-pythons-typing-library-ff32cec44981\", for teaching me all this you can help me create an google colab notebook ipynb file where you are first explaining a component, concept or practices, then explaining it through a simple program through sample code that can help me understand those component, concept or practices compleatly. make sure to create proper markdown and comments with flowchart(if required and can use tags and all for it) so I can understand theory and maths that works behind during that component, concept or practices like beginner-friendly."
      ],
      "metadata": {
        "id": "ZoKdVZTRyq2C"
      },
      "execution_count": null,
      "outputs": []
    }
  ]
}